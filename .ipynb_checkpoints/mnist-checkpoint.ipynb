{
 "cells": [
  {
   "cell_type": "markdown",
   "id": "70e39c37",
   "metadata": {},
   "source": [
    "# MNIST Digits Classifier\n",
    "\n",
    "Welcome to the programming exercise portion of Topic 4! In this notebook, we are going to train a dense Neural Network used to **classify handwritten digits**. This classifier will then be loaded into the backend of a handwritten digits combination lock.\n",
    "\n",
    "## Introduction\n",
    "\n",
    "Over the years, the MNIST Digits dataset has become one of the world's most popular hand-written numbers datasets. First developed in 1998, MNIST Digits contains over 60,000 training and testing examples obtained from high school students who volunteered their time to write and label numbers. This dataset was used to test and research the cutting edge technology that are Neural Networks from the early 2000s.\n",
    "\n",
    "### Importing Modules"
   ]
  },
  {
   "cell_type": "code",
   "execution_count": 1,
   "id": "2ced7a60",
   "metadata": {},
   "outputs": [],
   "source": [
    "pass"
   ]
  },
  {
   "cell_type": "markdown",
   "id": "3cdab4a1",
   "metadata": {},
   "source": [
    "## Preprocessing the Dataset\n",
    "\n",
    "In this section, we will prepare our Training, Testing, and Cross-validation datasets. Before moving on, it's always important to visualize our image data."
   ]
  },
  {
   "cell_type": "code",
   "execution_count": 2,
   "id": "d738f45e",
   "metadata": {},
   "outputs": [],
   "source": [
    "pass"
   ]
  },
  {
   "cell_type": "markdown",
   "id": "29c59e63",
   "metadata": {},
   "source": [
    "### Preparing the Training Examples"
   ]
  },
  {
   "cell_type": "code",
   "execution_count": 3,
   "id": "4628bfc5",
   "metadata": {},
   "outputs": [],
   "source": [
    "pass"
   ]
  },
  {
   "cell_type": "code",
   "execution_count": 4,
   "id": "c5159af8",
   "metadata": {},
   "outputs": [],
   "source": [
    "pass"
   ]
  },
  {
   "cell_type": "markdown",
   "id": "e229efd7",
   "metadata": {},
   "source": [
    "### One-Hot Encoding the Labels"
   ]
  },
  {
   "cell_type": "code",
   "execution_count": 5,
   "id": "d5f04ec6",
   "metadata": {},
   "outputs": [],
   "source": [
    "pass"
   ]
  },
  {
   "cell_type": "markdown",
   "id": "39b8b32f",
   "metadata": {},
   "source": [
    "### Preparing the Test Set"
   ]
  },
  {
   "cell_type": "code",
   "execution_count": 6,
   "id": "beb9c380",
   "metadata": {},
   "outputs": [],
   "source": [
    "pass"
   ]
  },
  {
   "cell_type": "code",
   "execution_count": 7,
   "id": "46575246",
   "metadata": {},
   "outputs": [],
   "source": [
    "pass"
   ]
  },
  {
   "cell_type": "markdown",
   "id": "434ce3c2",
   "metadata": {},
   "source": [
    "### Checking for Imbalanced Classes"
   ]
  },
  {
   "cell_type": "code",
   "execution_count": 8,
   "id": "12a77b8a",
   "metadata": {},
   "outputs": [],
   "source": [
    "pass"
   ]
  },
  {
   "cell_type": "markdown",
   "id": "1222e6a2",
   "metadata": {},
   "source": [
    "### Train-CV Split"
   ]
  },
  {
   "cell_type": "code",
   "execution_count": 9,
   "id": "b0919c1c",
   "metadata": {},
   "outputs": [],
   "source": [
    "pass"
   ]
  },
  {
   "cell_type": "markdown",
   "id": "de413bd4",
   "metadata": {},
   "source": [
    "## Neural Network\n",
    "\n",
    "This Neural Network will use a **3-layer** design with **900, 900,** and **10** nodes in each layer. Since the input data are images, we need to flatten the **28 x 28** images into a vector of size **784**.\n",
    "\n",
    "### Defining Our Model"
   ]
  },
  {
   "cell_type": "code",
   "execution_count": 10,
   "id": "3f874963",
   "metadata": {},
   "outputs": [],
   "source": [
    "pass"
   ]
  },
  {
   "cell_type": "markdown",
   "id": "8449e623",
   "metadata": {},
   "source": [
    "### Training"
   ]
  },
  {
   "cell_type": "code",
   "execution_count": 11,
   "id": "980a39eb",
   "metadata": {
    "scrolled": true
   },
   "outputs": [],
   "source": [
    "pass"
   ]
  },
  {
   "cell_type": "code",
   "execution_count": 12,
   "id": "17a0ebd3",
   "metadata": {
    "scrolled": false
   },
   "outputs": [],
   "source": [
    "pass"
   ]
  },
  {
   "cell_type": "code",
   "execution_count": 13,
   "id": "a611d5d4",
   "metadata": {},
   "outputs": [],
   "source": [
    "pass"
   ]
  },
  {
   "cell_type": "markdown",
   "id": "e13ce051",
   "metadata": {},
   "source": [
    "## What's Going On in the Hidden Layers?\n",
    "\n",
    "Previously in the course, we promised that we are going to look into the hidden layers to see what's going on."
   ]
  },
  {
   "cell_type": "code",
   "execution_count": 14,
   "id": "8e987e61",
   "metadata": {},
   "outputs": [],
   "source": [
    "pass"
   ]
  }
 ],
 "metadata": {
  "kernelspec": {
   "display_name": "Python 3",
   "language": "python",
   "name": "python3"
  },
  "language_info": {
   "codemirror_mode": {
    "name": "ipython",
    "version": 3
   },
   "file_extension": ".py",
   "mimetype": "text/x-python",
   "name": "python",
   "nbconvert_exporter": "python",
   "pygments_lexer": "ipython3",
   "version": "3.9.2"
  }
 },
 "nbformat": 4,
 "nbformat_minor": 5
}
